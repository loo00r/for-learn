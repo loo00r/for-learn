{
 "cells": [
  {
   "cell_type": "code",
   "execution_count": 15,
   "id": "1913acc8",
   "metadata": {},
   "outputs": [],
   "source": [
    "import time\n",
    "import random\n",
    "import numpy as np"
   ]
  },
  {
   "cell_type": "code",
   "execution_count": 16,
   "id": "345e66a4",
   "metadata": {},
   "outputs": [],
   "source": [
    "def binary_search(arr, key):\n",
    "    low, high = 0, len(arr) - 1\n",
    "    iterations = 0\n",
    "    comparisons = 0\n",
    "\n",
    "    while low <= high:\n",
    "        mid = (low + high) // 2\n",
    "        comparisons += 1\n",
    "\n",
    "        if arr[mid] == key:\n",
    "            return iterations, comparisons\n",
    "        elif arr[mid] < key:\n",
    "            low = mid + 1\n",
    "        else:\n",
    "            high = mid - 1\n",
    "\n",
    "        iterations += 1\n",
    "\n",
    "    return iterations, comparisons"
   ]
  },
  {
   "cell_type": "code",
   "execution_count": 17,
   "id": "cd156ea1",
   "metadata": {},
   "outputs": [],
   "source": [
    "def interpolation_search(arr, key):\n",
    "    low, high = 0, len(arr) - 1\n",
    "    iterations = 0\n",
    "    comparisons = 0\n",
    "\n",
    "    while low <= high and arr[low] <= key <= arr[high]:\n",
    "        pos = low + ((key - arr[low]) * (high - low)) // (arr[high] - arr[low])\n",
    "        comparisons += 1\n",
    "\n",
    "        if arr[pos] == key:\n",
    "            return iterations, comparisons\n",
    "        elif arr[pos] < key:\n",
    "            low = pos + 1\n",
    "        else:\n",
    "            high = pos - 1\n",
    "\n",
    "        iterations += 1\n",
    "\n",
    "    return iterations, comparisons"
   ]
  },
  {
   "cell_type": "code",
   "execution_count": 18,
   "id": "946f9564",
   "metadata": {},
   "outputs": [],
   "source": [
    "def perform_search(arr_size, num_iterations=10):\n",
    "    total_iterations_interpolation = 0\n",
    "    total_comparisons_interpolation = 0\n",
    "    total_time_interpolation = 0\n",
    "\n",
    "    total_iterations_binary = 0\n",
    "    total_comparisons_binary = 0\n",
    "    total_time_binary = 0\n",
    "\n",
    "    for _ in range(num_iterations):\n",
    "        arr = sorted([random.randint(1, 2 * arr_size) for _ in range(arr_size)])\n",
    "\n",
    "        # Вимірюємо час для інтерполяційного пошуку\n",
    "        start_time_interpolation = time.time()\n",
    "        for key in arr:\n",
    "            iterations, comparisons = interpolation_search(arr, key)\n",
    "            total_iterations_interpolation += iterations\n",
    "            total_comparisons_interpolation += comparisons\n",
    "        end_time_interpolation = time.time()\n",
    "\n",
    "        total_time_interpolation += end_time_interpolation - start_time_interpolation\n",
    "\n",
    "        # Вимірюємо час для бінарного пошуку\n",
    "        start_time_binary = time.time()\n",
    "        for key in arr:\n",
    "            iterations, comparisons = binary_search(arr, key)\n",
    "            total_iterations_binary += iterations\n",
    "            total_comparisons_binary += comparisons\n",
    "        end_time_binary = time.time()\n",
    "\n",
    "        total_time_binary += end_time_binary - start_time_binary\n",
    "\n",
    "    average_iterations_interpolation = total_iterations_interpolation / (arr_size * num_iterations)\n",
    "    average_comparisons_interpolation = total_comparisons_interpolation / (arr_size * num_iterations)\n",
    "    average_time_interpolation = total_time_interpolation / num_iterations\n",
    "\n",
    "    average_iterations_binary = total_iterations_binary / (arr_size * num_iterations)\n",
    "    average_comparisons_binary = total_comparisons_binary / (arr_size * num_iterations)\n",
    "    average_time_binary = total_time_binary / num_iterations\n",
    "\n",
    "    return {\n",
    "        'n': arr_size,\n",
    "        'average_iterations_interpolation': average_iterations_interpolation,\n",
    "        'average_comparisons_interpolation': average_comparisons_interpolation,\n",
    "        'average_time_interpolation': average_time_interpolation,\n",
    "        'average_iterations_binary': average_iterations_binary,\n",
    "        'average_comparisons_binary': average_comparisons_binary,\n",
    "        'average_time_binary': average_time_binary\n",
    "    }"
   ]
  },
  {
   "cell_type": "code",
   "execution_count": 21,
   "id": "23280966",
   "metadata": {},
   "outputs": [
    {
     "name": "stdout",
     "output_type": "stream",
     "text": [
      "n          I_interp        C_interp        T_interp        I_binary        C_binary       \n"
     ]
    }
   ],
   "source": [
    "print(\"{:<10} {:<15} {:<15} {:<15} {:<15} {:<15}\".format(\"n\", \"I_interp\", \"C_interp\", \"T_interp\", \"I_binary\", \"C_binary\"))"
   ]
  },
  {
   "cell_type": "code",
   "execution_count": 25,
   "id": "b3a996f9",
   "metadata": {},
   "outputs": [],
   "source": [
    "sizes = [100, 1000, 10000, 100000]\n",
    "num_iterations = 10"
   ]
  },
  {
   "cell_type": "code",
   "execution_count": 26,
   "id": "ed6ad4e0",
   "metadata": {},
   "outputs": [
    {
     "name": "stdout",
     "output_type": "stream",
     "text": [
      "100        1.53            2.53            0.0             4.44            5.44           \n",
      "1000       2.15            3.15            0.00171         7.55            8.55           \n",
      "10000      2.5             3.5             0.019083        10.91           11.91          \n",
      "100000     2.86            3.86            0.238086        14.23           15.23          \n"
     ]
    }
   ],
   "source": [
    "for size in sizes:\n",
    "    result = perform_search(size, num_iterations)\n",
    "    n = result['n']\n",
    "    average_iterations_interp = result['average_iterations_interpolation']\n",
    "    average_comparisons_interp = result['average_comparisons_interpolation']\n",
    "    average_time_interp = result['average_time_interpolation']\n",
    "\n",
    "    average_iterations_binary = result['average_iterations_binary']\n",
    "    average_comparisons_binary = result['average_comparisons_binary']\n",
    "    average_time_binary = result['average_time_binary']\n",
    "\n",
    "    print(\"{:<10} {:<15} {:<15} {:<15} {:<15} {:<15}\".format(\n",
    "        n,\n",
    "        round(average_iterations_interp, 2), round(average_comparisons_interp, 2), round(average_time_interp, 6),\n",
    "        round(average_iterations_binary, 2), round(average_comparisons_binary, 2), round(average_time_binary, 6)\n",
    "    ))"
   ]
  },
  {
   "cell_type": "code",
   "execution_count": 28,
   "id": "9288f4dc",
   "metadata": {},
   "outputs": [],
   "source": [
    "def perform_search(arr_size, num_iterations=10):\n",
    "    total_iterations = 0\n",
    "    total_comparisons = 0\n",
    "    total_time = 0\n",
    "\n",
    "    for _ in range(num_iterations):\n",
    "        arr = sorted([random.randint(1, 2 * arr_size) for _ in range(arr_size)])\n",
    "\n",
    "        start_time = time.time()\n",
    "        for key in arr:\n",
    "            iterations, comparisons = interpolation_search(arr, key)\n",
    "            total_iterations += iterations\n",
    "            total_comparisons += comparisons\n",
    "        end_time = time.time()\n",
    "\n",
    "        total_time += end_time - start_time\n",
    "\n",
    "    average_iterations = total_iterations / (arr_size * num_iterations)\n",
    "    average_comparisons = total_comparisons / (arr_size * num_iterations)\n",
    "    average_time = total_time / num_iterations\n",
    "\n",
    "    return {\n",
    "        'n': arr_size,\n",
    "        'average_iterations': average_iterations,\n",
    "        'average_comparisons': average_comparisons,\n",
    "        'average_time': average_time\n",
    "    }"
   ]
  },
  {
   "cell_type": "code",
   "execution_count": 29,
   "id": "9031c2d0",
   "metadata": {},
   "outputs": [
    {
     "name": "stdout",
     "output_type": "stream",
     "text": [
      "n          I(n)            C(n)            T(n)           \n"
     ]
    }
   ],
   "source": [
    "print(\"{:<10} {:<15} {:<15} {:<15}\".format(\"n\", \"I(n)\", \"C(n)\", \"T(n)\"))"
   ]
  },
  {
   "cell_type": "code",
   "execution_count": 30,
   "id": "b8b1eb44",
   "metadata": {},
   "outputs": [],
   "source": [
    "sizes = [100, 1000, 10000, 100000]\n",
    "num_iterations = 10"
   ]
  },
  {
   "cell_type": "code",
   "execution_count": 31,
   "id": "675c40d0",
   "metadata": {},
   "outputs": [
    {
     "name": "stdout",
     "output_type": "stream",
     "text": [
      "100        1.25            2.25            0.0001         \n",
      "1000       2.21            3.21            0.001514       \n",
      "10000      2.54            3.54            0.011143       \n",
      "100000     2.86            3.86            0.229858       \n"
     ]
    }
   ],
   "source": [
    "for size in sizes:\n",
    "    result = perform_search(size, num_iterations)\n",
    "    n = result['n']\n",
    "    average_iterations = result['average_iterations']\n",
    "    average_comparisons = result['average_comparisons']\n",
    "    average_time = result['average_time']\n",
    "\n",
    "    print(\"{:<10} {:<15} {:<15} {:<15}\".format(n, round(average_iterations, 2), round(average_comparisons, 2), round(average_time, 6)))"
   ]
  },
  {
   "cell_type": "code",
   "execution_count": null,
   "id": "442d97f2",
   "metadata": {},
   "outputs": [],
   "source": []
  }
 ],
 "metadata": {
  "kernelspec": {
   "display_name": "Python 3 (ipykernel)",
   "language": "python",
   "name": "python3"
  },
  "language_info": {
   "codemirror_mode": {
    "name": "ipython",
    "version": 3
   },
   "file_extension": ".py",
   "mimetype": "text/x-python",
   "name": "python",
   "nbconvert_exporter": "python",
   "pygments_lexer": "ipython3",
   "version": "3.9.17"
  }
 },
 "nbformat": 4,
 "nbformat_minor": 5
}
